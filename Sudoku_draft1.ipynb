{
 "cells": [
  {
   "cell_type": "markdown",
   "metadata": {
    "deletable": true,
    "editable": true
   },
   "source": [
    "# Sudoku Project Lecture Notes\n",
    "### December 2017, by Jude Moon\n",
    "\n",
    "ubuntu, Python3.6, aind-environment-unix.yml\n",
    "***\n",
    "\n",
    "## What is Sudoku?\n",
    "It consists of a 9x9 grid, and the objective is to fill the grid with digits in such a way that each row, each column, and each of the 9 principal 3x3 subsquares contains all of the digits from 1 to 9. \n",
    "\n",
    "## Terminology for Sudoku\n",
    "\n",
    "- Box: The individual squares at the intersection of rows and columns will be called boxes\n",
    "- Unit: The complete rows, columns, and 3x3 squares, will be called units\n",
    "- Peer: For a particular box (such as 'A1'), its peers will be all other boxes that belong to a common unit (namely, those that belong to the same row, column, or 3x3 square).\n",
    "\n",
    "### Quiz1\n",
    "For any box, how many peers are there?\n",
    "\n",
    "> 20\n",
    "\n",
    "## Encoding the Board\n",
    "record the puzzles in two ways — as a string and as a dictionary\n",
    "- The string will consist of a concatenation of all the readings of the digits in the rows, taking the rows from top to bottom. If the puzzle is not solved, we can use a . as a placeholder for an empty box. For example, the unsolved puzzle at the above left will be written as: ..3.2.6..9..3.5..1..18.64....81.29..7.......8..67.82....26.95..8..2.3..9..5.1.3..\n",
    "- The keys will be strings corresponding to the boxes — namely, 'A1', 'A2', ..., 'I9'. The values will either be the digit in each box (if there is one) or a '.' (if not)."
   ]
  },
  {
   "cell_type": "code",
   "execution_count": 1,
   "metadata": {
    "collapsed": true,
    "deletable": true,
    "editable": true
   },
   "outputs": [],
   "source": [
    "# record rows and columns as strings\n",
    "rows = 'ABCDEFGHI'\n",
    "cols = '123456789'\n",
    "\n",
    "def cross(a, b):\n",
    "    return [s+t for s in a for t in b]"
   ]
  },
  {
   "cell_type": "code",
   "execution_count": 2,
   "metadata": {
    "collapsed": false,
    "deletable": true,
    "editable": true
   },
   "outputs": [
    {
     "data": {
      "text/plain": [
       "['A1',\n",
       " 'A2',\n",
       " 'A3',\n",
       " 'A4',\n",
       " 'A5',\n",
       " 'A6',\n",
       " 'A7',\n",
       " 'A8',\n",
       " 'A9',\n",
       " 'B1',\n",
       " 'B2',\n",
       " 'B3',\n",
       " 'B4',\n",
       " 'B5',\n",
       " 'B6',\n",
       " 'B7',\n",
       " 'B8',\n",
       " 'B9',\n",
       " 'C1',\n",
       " 'C2',\n",
       " 'C3',\n",
       " 'C4',\n",
       " 'C5',\n",
       " 'C6',\n",
       " 'C7',\n",
       " 'C8',\n",
       " 'C9',\n",
       " 'D1',\n",
       " 'D2',\n",
       " 'D3',\n",
       " 'D4',\n",
       " 'D5',\n",
       " 'D6',\n",
       " 'D7',\n",
       " 'D8',\n",
       " 'D9',\n",
       " 'E1',\n",
       " 'E2',\n",
       " 'E3',\n",
       " 'E4',\n",
       " 'E5',\n",
       " 'E6',\n",
       " 'E7',\n",
       " 'E8',\n",
       " 'E9',\n",
       " 'F1',\n",
       " 'F2',\n",
       " 'F3',\n",
       " 'F4',\n",
       " 'F5',\n",
       " 'F6',\n",
       " 'F7',\n",
       " 'F8',\n",
       " 'F9',\n",
       " 'G1',\n",
       " 'G2',\n",
       " 'G3',\n",
       " 'G4',\n",
       " 'G5',\n",
       " 'G6',\n",
       " 'G7',\n",
       " 'G8',\n",
       " 'G9',\n",
       " 'H1',\n",
       " 'H2',\n",
       " 'H3',\n",
       " 'H4',\n",
       " 'H5',\n",
       " 'H6',\n",
       " 'H7',\n",
       " 'H8',\n",
       " 'H9',\n",
       " 'I1',\n",
       " 'I2',\n",
       " 'I3',\n",
       " 'I4',\n",
       " 'I5',\n",
       " 'I6',\n",
       " 'I7',\n",
       " 'I8',\n",
       " 'I9']"
      ]
     },
     "execution_count": 2,
     "metadata": {},
     "output_type": "execute_result"
    }
   ],
   "source": [
    "boxes = cross(rows, cols)\n",
    "boxes"
   ]
  },
  {
   "cell_type": "code",
   "execution_count": 3,
   "metadata": {
    "collapsed": false,
    "deletable": true,
    "editable": true
   },
   "outputs": [
    {
     "data": {
      "text/plain": [
       "['A1', 'A2', 'A3', 'A4', 'A5', 'A6', 'A7', 'A8', 'A9']"
      ]
     },
     "execution_count": 3,
     "metadata": {},
     "output_type": "execute_result"
    }
   ],
   "source": [
    "row_units = [cross(r, cols) for r in rows]\n",
    "row_units[0]"
   ]
  },
  {
   "cell_type": "code",
   "execution_count": 4,
   "metadata": {
    "collapsed": false,
    "deletable": true,
    "editable": true
   },
   "outputs": [
    {
     "data": {
      "text/plain": [
       "['A1', 'B1', 'C1', 'D1', 'E1', 'F1', 'G1', 'H1', 'I1']"
      ]
     },
     "execution_count": 4,
     "metadata": {},
     "output_type": "execute_result"
    }
   ],
   "source": [
    "column_units = [cross(rows, c) for c in cols]\n",
    "column_units[0]"
   ]
  },
  {
   "cell_type": "code",
   "execution_count": 5,
   "metadata": {
    "collapsed": false,
    "deletable": true,
    "editable": true
   },
   "outputs": [
    {
     "data": {
      "text/plain": [
       "['A1', 'A2', 'A3', 'B1', 'B2', 'B3', 'C1', 'C2', 'C3']"
      ]
     },
     "execution_count": 5,
     "metadata": {},
     "output_type": "execute_result"
    }
   ],
   "source": [
    "square_units = [cross(rs, cs) for rs in ('ABC','DEF','GHI') for cs in ('123','456','789')]\n",
    "square_units[0]"
   ]
  },
  {
   "cell_type": "code",
   "execution_count": 6,
   "metadata": {
    "collapsed": false,
    "deletable": true,
    "editable": true
   },
   "outputs": [],
   "source": [
    "unitlist = row_units + column_units + square_units"
   ]
  },
  {
   "cell_type": "code",
   "execution_count": 7,
   "metadata": {
    "collapsed": true,
    "deletable": true,
    "editable": true
   },
   "outputs": [],
   "source": [
    "units = dict((s, [u for u in unitlist if s in u]) for s in boxes)\n",
    "peers = dict((s, set(sum(units[s],[]))-set([s])) for s in boxes)"
   ]
  },
  {
   "cell_type": "code",
   "execution_count": 8,
   "metadata": {
    "collapsed": true,
    "deletable": true,
    "editable": true
   },
   "outputs": [],
   "source": [
    "# convert the string representation of a puzzle into a dictionary form\n",
    "def str_to_dict_v1(string):\n",
    "    \"\"\"\n",
    "    Input: Sudoku grid in string form, 81 characters long\n",
    "    Procedure: Convert grid string into {<box>: <value>} dict with '.' value for empties   \n",
    "    Output: Sudoku grid in dictionary form\n",
    "        - keys: Box labels, e.g. 'A1'\n",
    "        - values: Value in corresponding box, e.g. '8', or '.' if it is empty.\n",
    "    \"\"\"\n",
    "    assert len(string) == 81, \"Input grid must be a string of length 81 (9x9)\"   \n",
    "    return dict(zip(boxes, string))"
   ]
  },
  {
   "cell_type": "code",
   "execution_count": 9,
   "metadata": {
    "collapsed": false,
    "deletable": true,
    "editable": true
   },
   "outputs": [
    {
     "data": {
      "text/plain": [
       "{'A1': '.',\n",
       " 'A2': '.',\n",
       " 'A3': '3',\n",
       " 'A4': '.',\n",
       " 'A5': '2',\n",
       " 'A6': '.',\n",
       " 'A7': '6',\n",
       " 'A8': '.',\n",
       " 'A9': '.',\n",
       " 'B1': '9',\n",
       " 'B2': '.',\n",
       " 'B3': '.',\n",
       " 'B4': '3',\n",
       " 'B5': '.',\n",
       " 'B6': '5',\n",
       " 'B7': '.',\n",
       " 'B8': '.',\n",
       " 'B9': '1',\n",
       " 'C1': '.',\n",
       " 'C2': '.',\n",
       " 'C3': '1',\n",
       " 'C4': '8',\n",
       " 'C5': '.',\n",
       " 'C6': '6',\n",
       " 'C7': '4',\n",
       " 'C8': '.',\n",
       " 'C9': '.',\n",
       " 'D1': '.',\n",
       " 'D2': '.',\n",
       " 'D3': '8',\n",
       " 'D4': '1',\n",
       " 'D5': '.',\n",
       " 'D6': '2',\n",
       " 'D7': '9',\n",
       " 'D8': '.',\n",
       " 'D9': '.',\n",
       " 'E1': '7',\n",
       " 'E2': '.',\n",
       " 'E3': '.',\n",
       " 'E4': '.',\n",
       " 'E5': '.',\n",
       " 'E6': '.',\n",
       " 'E7': '.',\n",
       " 'E8': '.',\n",
       " 'E9': '8',\n",
       " 'F1': '.',\n",
       " 'F2': '.',\n",
       " 'F3': '6',\n",
       " 'F4': '7',\n",
       " 'F5': '.',\n",
       " 'F6': '8',\n",
       " 'F7': '2',\n",
       " 'F8': '.',\n",
       " 'F9': '.',\n",
       " 'G1': '.',\n",
       " 'G2': '.',\n",
       " 'G3': '2',\n",
       " 'G4': '6',\n",
       " 'G5': '.',\n",
       " 'G6': '9',\n",
       " 'G7': '5',\n",
       " 'G8': '.',\n",
       " 'G9': '.',\n",
       " 'H1': '8',\n",
       " 'H2': '.',\n",
       " 'H3': '.',\n",
       " 'H4': '2',\n",
       " 'H5': '.',\n",
       " 'H6': '3',\n",
       " 'H7': '.',\n",
       " 'H8': '.',\n",
       " 'H9': '9',\n",
       " 'I1': '.',\n",
       " 'I2': '.',\n",
       " 'I3': '5',\n",
       " 'I4': '.',\n",
       " 'I5': '1',\n",
       " 'I6': '.',\n",
       " 'I7': '3',\n",
       " 'I8': '.',\n",
       " 'I9': '.'}"
      ]
     },
     "execution_count": 9,
     "metadata": {},
     "output_type": "execute_result"
    }
   ],
   "source": [
    "string_sudoku = '..3.2.6..9..3.5..1..18.64....81.29..7.......8..67.82....26.95..8..2.3..9..5.1.3..'\n",
    "dict_sudoku = str_to_dict_v1(string_sudoku)\n",
    "dict_sudoku"
   ]
  },
  {
   "cell_type": "code",
   "execution_count": 10,
   "metadata": {
    "collapsed": true,
    "deletable": true,
    "editable": true
   },
   "outputs": [],
   "source": [
    "def display(values):\n",
    "    \"\"\"\n",
    "    Input: The sudoku in dictionary form\n",
    "    Procedure: Display the values as a 2-D grid\n",
    "    \"\"\"\n",
    "    width = 1+max(len(values[s]) for s in boxes)\n",
    "    line = '+'.join(['-'*(width*3)]*3)\n",
    "    for r in rows:\n",
    "        print(''.join(values[r+c].center(width)+('|' if c in '36' else '')\n",
    "                      for c in cols))\n",
    "        if r in 'CF': print(line)"
   ]
  },
  {
   "cell_type": "code",
   "execution_count": 11,
   "metadata": {
    "collapsed": false,
    "deletable": true,
    "editable": true
   },
   "outputs": [
    {
     "name": "stdout",
     "output_type": "stream",
     "text": [
      ". . 3 |. 2 . |6 . . \n",
      "9 . . |3 . 5 |. . 1 \n",
      ". . 1 |8 . 6 |4 . . \n",
      "------+------+------\n",
      ". . 8 |1 . 2 |9 . . \n",
      "7 . . |. . . |. . 8 \n",
      ". . 6 |7 . 8 |2 . . \n",
      "------+------+------\n",
      ". . 2 |6 . 9 |5 . . \n",
      "8 . . |2 . 3 |. . 9 \n",
      ". . 5 |. 1 . |3 . . \n"
     ]
    }
   ],
   "source": [
    "display(dict_sudoku)"
   ]
  },
  {
   "cell_type": "markdown",
   "metadata": {
    "deletable": true,
    "editable": true
   },
   "source": [
    "## Strategy 1: Elimination\n",
    "Replace '.' with all the available values for that box"
   ]
  },
  {
   "cell_type": "code",
   "execution_count": 12,
   "metadata": {
    "collapsed": true,
    "deletable": true,
    "editable": true
   },
   "outputs": [],
   "source": [
    "# convert the string representation of a puzzle into a dictionary form\n",
    "def str_to_dict_v2(string):\n",
    "    \"\"\"\n",
    "    Input: Sudoku grid in string form, 81 characters long\n",
    "    Procedure: Convert grid string into {<box>: <value>} dict with '123456789' value for empties   \n",
    "    Output: Sudoku grid in dictionary form\n",
    "        - keys: Box labels, e.g. 'A1'\n",
    "        - values: Value in corresponding box, e.g. '8', or '123456789' if it is empty.\n",
    "    \"\"\"\n",
    "    assert len(string) == 81, \"Input grid must be a string of length 81 (9x9)\"\n",
    "    values = []\n",
    "    for c in string:\n",
    "        if c == '.':\n",
    "            values.append('123456789')\n",
    "        else:\n",
    "            values.append(c)\n",
    "    return dict(zip(boxes, values))"
   ]
  },
  {
   "cell_type": "code",
   "execution_count": 13,
   "metadata": {
    "collapsed": false,
    "deletable": true,
    "editable": true
   },
   "outputs": [
    {
     "data": {
      "text/plain": [
       "{'A1': '123456789',\n",
       " 'A2': '123456789',\n",
       " 'A3': '3',\n",
       " 'A4': '123456789',\n",
       " 'A5': '2',\n",
       " 'A6': '123456789',\n",
       " 'A7': '6',\n",
       " 'A8': '123456789',\n",
       " 'A9': '123456789',\n",
       " 'B1': '9',\n",
       " 'B2': '123456789',\n",
       " 'B3': '123456789',\n",
       " 'B4': '3',\n",
       " 'B5': '123456789',\n",
       " 'B6': '5',\n",
       " 'B7': '123456789',\n",
       " 'B8': '123456789',\n",
       " 'B9': '1',\n",
       " 'C1': '123456789',\n",
       " 'C2': '123456789',\n",
       " 'C3': '1',\n",
       " 'C4': '8',\n",
       " 'C5': '123456789',\n",
       " 'C6': '6',\n",
       " 'C7': '4',\n",
       " 'C8': '123456789',\n",
       " 'C9': '123456789',\n",
       " 'D1': '123456789',\n",
       " 'D2': '123456789',\n",
       " 'D3': '8',\n",
       " 'D4': '1',\n",
       " 'D5': '123456789',\n",
       " 'D6': '2',\n",
       " 'D7': '9',\n",
       " 'D8': '123456789',\n",
       " 'D9': '123456789',\n",
       " 'E1': '7',\n",
       " 'E2': '123456789',\n",
       " 'E3': '123456789',\n",
       " 'E4': '123456789',\n",
       " 'E5': '123456789',\n",
       " 'E6': '123456789',\n",
       " 'E7': '123456789',\n",
       " 'E8': '123456789',\n",
       " 'E9': '8',\n",
       " 'F1': '123456789',\n",
       " 'F2': '123456789',\n",
       " 'F3': '6',\n",
       " 'F4': '7',\n",
       " 'F5': '123456789',\n",
       " 'F6': '8',\n",
       " 'F7': '2',\n",
       " 'F8': '123456789',\n",
       " 'F9': '123456789',\n",
       " 'G1': '123456789',\n",
       " 'G2': '123456789',\n",
       " 'G3': '2',\n",
       " 'G4': '6',\n",
       " 'G5': '123456789',\n",
       " 'G6': '9',\n",
       " 'G7': '5',\n",
       " 'G8': '123456789',\n",
       " 'G9': '123456789',\n",
       " 'H1': '8',\n",
       " 'H2': '123456789',\n",
       " 'H3': '123456789',\n",
       " 'H4': '2',\n",
       " 'H5': '123456789',\n",
       " 'H6': '3',\n",
       " 'H7': '123456789',\n",
       " 'H8': '123456789',\n",
       " 'H9': '9',\n",
       " 'I1': '123456789',\n",
       " 'I2': '123456789',\n",
       " 'I3': '5',\n",
       " 'I4': '123456789',\n",
       " 'I5': '1',\n",
       " 'I6': '123456789',\n",
       " 'I7': '3',\n",
       " 'I8': '123456789',\n",
       " 'I9': '123456789'}"
      ]
     },
     "execution_count": 13,
     "metadata": {},
     "output_type": "execute_result"
    }
   ],
   "source": [
    "string_sudoku = '..3.2.6..9..3.5..1..18.64....81.29..7.......8..67.82....26.95..8..2.3..9..5.1.3..'\n",
    "dict_sudoku = str_to_dict_v2(string_sudoku)\n",
    "dict_sudoku"
   ]
  },
  {
   "cell_type": "code",
   "execution_count": 14,
   "metadata": {
    "collapsed": false,
    "deletable": true,
    "editable": true
   },
   "outputs": [
    {
     "name": "stdout",
     "output_type": "stream",
     "text": [
      "123456789 123456789     3     |123456789     2     123456789 |    6     123456789 123456789 \n",
      "    9     123456789 123456789 |    3     123456789     5     |123456789 123456789     1     \n",
      "123456789 123456789     1     |    8     123456789     6     |    4     123456789 123456789 \n",
      "------------------------------+------------------------------+------------------------------\n",
      "123456789 123456789     8     |    1     123456789     2     |    9     123456789 123456789 \n",
      "    7     123456789 123456789 |123456789 123456789 123456789 |123456789 123456789     8     \n",
      "123456789 123456789     6     |    7     123456789     8     |    2     123456789 123456789 \n",
      "------------------------------+------------------------------+------------------------------\n",
      "123456789 123456789     2     |    6     123456789     9     |    5     123456789 123456789 \n",
      "    8     123456789 123456789 |    2     123456789     3     |123456789 123456789     9     \n",
      "123456789 123456789     5     |123456789     1     123456789 |    3     123456789 123456789 \n"
     ]
    }
   ],
   "source": [
    "display(dict_sudoku)"
   ]
  },
  {
   "cell_type": "code",
   "execution_count": 15,
   "metadata": {
    "collapsed": true,
    "deletable": true,
    "editable": true
   },
   "outputs": [],
   "source": [
    "def eliminate(dictionary):\n",
    "    \"\"\"\n",
    "    Input: Sudoku in dictionary form\n",
    "    Procedure: Go through all the boxes, and whenever there is a box with a single value,\n",
    "               eliminate this value from the set of values of all its peers   \n",
    "    Output: Resulting Sudoku in dictionary form after eliminating values\n",
    "    \"\"\"\n",
    "    solved_values = [box for box in dictionary.keys() if len(dictionary[box]) == 1]\n",
    "    for box in solved_values:\n",
    "        digit = dictionary[box]\n",
    "        for peer in peers[box]:\n",
    "            dictionary[peer] = dictionary[peer].replace(digit,'')\n",
    "    return dictionary\n"
   ]
  },
  {
   "cell_type": "code",
   "execution_count": 16,
   "metadata": {
    "collapsed": false,
    "deletable": true,
    "editable": true
   },
   "outputs": [
    {
     "data": {
      "text/plain": [
       "{'A1': '45',\n",
       " 'A2': '4578',\n",
       " 'A3': '3',\n",
       " 'A4': '49',\n",
       " 'A5': '2',\n",
       " 'A6': '147',\n",
       " 'A7': '6',\n",
       " 'A8': '5789',\n",
       " 'A9': '57',\n",
       " 'B1': '9',\n",
       " 'B2': '24678',\n",
       " 'B3': '47',\n",
       " 'B4': '3',\n",
       " 'B5': '47',\n",
       " 'B6': '5',\n",
       " 'B7': '78',\n",
       " 'B8': '278',\n",
       " 'B9': '1',\n",
       " 'C1': '25',\n",
       " 'C2': '257',\n",
       " 'C3': '1',\n",
       " 'C4': '8',\n",
       " 'C5': '79',\n",
       " 'C6': '6',\n",
       " 'C7': '4',\n",
       " 'C8': '23579',\n",
       " 'C9': '2357',\n",
       " 'D1': '345',\n",
       " 'D2': '345',\n",
       " 'D3': '8',\n",
       " 'D4': '1',\n",
       " 'D5': '3456',\n",
       " 'D6': '2',\n",
       " 'D7': '9',\n",
       " 'D8': '34567',\n",
       " 'D9': '34567',\n",
       " 'E1': '7',\n",
       " 'E2': '123459',\n",
       " 'E3': '49',\n",
       " 'E4': '459',\n",
       " 'E5': '34569',\n",
       " 'E6': '4',\n",
       " 'E7': '1',\n",
       " 'E8': '13456',\n",
       " 'E9': '8',\n",
       " 'F1': '1345',\n",
       " 'F2': '13459',\n",
       " 'F3': '6',\n",
       " 'F4': '7',\n",
       " 'F5': '3459',\n",
       " 'F6': '8',\n",
       " 'F7': '2',\n",
       " 'F8': '1345',\n",
       " 'F9': '345',\n",
       " 'G1': '134',\n",
       " 'G2': '1347',\n",
       " 'G3': '2',\n",
       " 'G4': '6',\n",
       " 'G5': '478',\n",
       " 'G6': '9',\n",
       " 'G7': '5',\n",
       " 'G8': '1478',\n",
       " 'G9': '47',\n",
       " 'H1': '8',\n",
       " 'H2': '1467',\n",
       " 'H3': '47',\n",
       " 'H4': '2',\n",
       " 'H5': '457',\n",
       " 'H6': '3',\n",
       " 'H7': '17',\n",
       " 'H8': '1467',\n",
       " 'H9': '9',\n",
       " 'I1': '46',\n",
       " 'I2': '4679',\n",
       " 'I3': '5',\n",
       " 'I4': '4',\n",
       " 'I5': '1',\n",
       " 'I6': '47',\n",
       " 'I7': '3',\n",
       " 'I8': '24678',\n",
       " 'I9': '2467'}"
      ]
     },
     "execution_count": 16,
     "metadata": {},
     "output_type": "execute_result"
    }
   ],
   "source": [
    "sudoku_eliminated = eliminate(dict_sudoku)\n",
    "sudoku_eliminated"
   ]
  },
  {
   "cell_type": "code",
   "execution_count": 17,
   "metadata": {
    "collapsed": false,
    "deletable": true,
    "editable": true
   },
   "outputs": [
    {
     "name": "stdout",
     "output_type": "stream",
     "text": [
      "   45    4578    3   |   49     2     147  |   6     5789    57  \n",
      "   9    24678    47  |   3      47     5   |   78    278     1   \n",
      "   25    257     1   |   8      79     6   |   4    23579   2357 \n",
      "---------------------+---------------------+---------------------\n",
      "  345    345     8   |   1     3456    2   |   9    34567  34567 \n",
      "   7    123459   49  |  459   34569    4   |   1    13456    8   \n",
      "  1345  13459    6   |   7     3459    8   |   2     1345   345  \n",
      "---------------------+---------------------+---------------------\n",
      "  134    1347    2   |   6     478     9   |   5     1478    47  \n",
      "   8     1467    47  |   2     457     3   |   17    1467    9   \n",
      "   46    4679    5   |   4      1      47  |   3    24678   2467 \n"
     ]
    }
   ],
   "source": [
    "display(sudoku_eliminated)"
   ]
  },
  {
   "cell_type": "markdown",
   "metadata": {
    "deletable": true,
    "editable": true
   },
   "source": [
    "## Strategy 2: Only Choice\n",
    "If there is only one box in a unit which would allow a certain digit, then that box must be assigned that digit."
   ]
  },
  {
   "cell_type": "code",
   "execution_count": 18,
   "metadata": {
    "collapsed": true,
    "deletable": true,
    "editable": true
   },
   "outputs": [],
   "source": [
    "def only_choice(dictionary):\n",
    "    \"\"\"\n",
    "    Input: Sudoku in dictionary form\n",
    "    Procedure: Go through all the units, and whenever there is a unit with a value\n",
    "               that only fits in one box, assign the value to this box  \n",
    "    Output: Resulting Sudoku in dictionary form filling in only choices\n",
    "    \"\"\"\n",
    "    for unit in unitlist:\n",
    "        for digit in '123456789':\n",
    "            dplaces = [box for box in unit if digit in dictionary[box]]\n",
    "            if len(dplaces) == 1:\n",
    "                dictionary[dplaces[0]] = digit\n",
    "    return dictionary"
   ]
  },
  {
   "cell_type": "code",
   "execution_count": 19,
   "metadata": {
    "collapsed": false,
    "deletable": true,
    "editable": true
   },
   "outputs": [
    {
     "name": "stdout",
     "output_type": "stream",
     "text": [
      "  45    8     3   |  9     2     1   |  6    5789   57  \n",
      "  9     6     47  |  3     4     5   |  8    278    1   \n",
      "  2    257    1   |  8     7     6   |  4   23579  2357 \n",
      "------------------+------------------+------------------\n",
      " 345   345    8   |  1    3456   2   |  9   34567 34567 \n",
      "  7     2     9   |  5   34569   4   |  1   13456   8   \n",
      " 1345 13459   6   |  7    3459   8   |  2    1345  345  \n",
      "------------------+------------------+------------------\n",
      " 134   1347   2   |  6     8     9   |  5    1478   47  \n",
      "  8    1467   47  |  2     5     3   |  17    6     9   \n",
      "  6     9     5   |  4     1     7   |  3     8     2   \n"
     ]
    }
   ],
   "source": [
    "sudoku_only = only_choice(sudoku_eliminated)\n",
    "display(sudoku_only)"
   ]
  },
  {
   "cell_type": "markdown",
   "metadata": {
    "deletable": true,
    "editable": true
   },
   "source": [
    "## Iterate eliminate and only_choice until solving Sudoku"
   ]
  },
  {
   "cell_type": "code",
   "execution_count": 20,
   "metadata": {
    "collapsed": false,
    "deletable": true,
    "editable": true
   },
   "outputs": [
    {
     "data": {
      "text/plain": [
       "{'A1': '45',\n",
       " 'A2': '8',\n",
       " 'A3': '3',\n",
       " 'A4': '9',\n",
       " 'A5': '2',\n",
       " 'A6': '1',\n",
       " 'A7': '6',\n",
       " 'A8': '57',\n",
       " 'A9': '57',\n",
       " 'B1': '9',\n",
       " 'B2': '6',\n",
       " 'B3': '7',\n",
       " 'B4': '3',\n",
       " 'B5': '4',\n",
       " 'B6': '5',\n",
       " 'B7': '8',\n",
       " 'B8': '27',\n",
       " 'B9': '1',\n",
       " 'C1': '2',\n",
       " 'C2': '5',\n",
       " 'C3': '1',\n",
       " 'C4': '8',\n",
       " 'C5': '7',\n",
       " 'C6': '6',\n",
       " 'C7': '4',\n",
       " 'C8': '359',\n",
       " 'C9': '35',\n",
       " 'D1': '345',\n",
       " 'D2': '345',\n",
       " 'D3': '8',\n",
       " 'D4': '1',\n",
       " 'D5': '36',\n",
       " 'D6': '2',\n",
       " 'D7': '9',\n",
       " 'D8': '3457',\n",
       " 'D9': '34567',\n",
       " 'E1': '7',\n",
       " 'E2': '2',\n",
       " 'E3': '9',\n",
       " 'E4': '5',\n",
       " 'E5': '36',\n",
       " 'E6': '4',\n",
       " 'E7': '1',\n",
       " 'E8': '3',\n",
       " 'E9': '8',\n",
       " 'F1': '1345',\n",
       " 'F2': '1345',\n",
       " 'F3': '6',\n",
       " 'F4': '7',\n",
       " 'F5': '39',\n",
       " 'F6': '8',\n",
       " 'F7': '2',\n",
       " 'F8': '345',\n",
       " 'F9': '345',\n",
       " 'G1': '134',\n",
       " 'G2': '1347',\n",
       " 'G3': '2',\n",
       " 'G4': '6',\n",
       " 'G5': '8',\n",
       " 'G6': '9',\n",
       " 'G7': '5',\n",
       " 'G8': '147',\n",
       " 'G9': '47',\n",
       " 'H1': '8',\n",
       " 'H2': '147',\n",
       " 'H3': '47',\n",
       " 'H4': '2',\n",
       " 'H5': '5',\n",
       " 'H6': '3',\n",
       " 'H7': '7',\n",
       " 'H8': '6',\n",
       " 'H9': '9',\n",
       " 'I1': '6',\n",
       " 'I2': '9',\n",
       " 'I3': '5',\n",
       " 'I4': '4',\n",
       " 'I5': '1',\n",
       " 'I6': '7',\n",
       " 'I7': '3',\n",
       " 'I8': '8',\n",
       " 'I9': '2'}"
      ]
     },
     "execution_count": 20,
     "metadata": {},
     "output_type": "execute_result"
    }
   ],
   "source": [
    "# 2nd round of elimination\n",
    "sudoku_eliminated_v2 = eliminate(sudoku_only)\n",
    "sudoku_eliminated_v2"
   ]
  },
  {
   "cell_type": "code",
   "execution_count": 21,
   "metadata": {
    "collapsed": false,
    "deletable": true,
    "editable": true
   },
   "outputs": [
    {
     "name": "stdout",
     "output_type": "stream",
     "text": [
      "  4    8    3  |  9    2    1  |  6    57   57 \n",
      "  9    6    7  |  3    4    5  |  8    2    1  \n",
      "  2    5    1  |  8    7    6  |  4    9    3  \n",
      "---------------+---------------+---------------\n",
      " 345  345   8  |  1    3    2  |  9    7    6  \n",
      "  7    2    9  |  5    6    4  |  1    3    8  \n",
      " 1345 1345  6  |  7    9    8  |  2   345  345 \n",
      "---------------+---------------+---------------\n",
      "  3    7    2  |  6    8    9  |  5    1    4  \n",
      "  8    1    4  |  2    5    3  |  7    6    9  \n",
      "  6    9    5  |  4    1    7  |  3    8    2  \n"
     ]
    }
   ],
   "source": [
    "# 2nd round of only_choice\n",
    "sudoku_only_v2 = only_choice(sudoku_eliminated_v2)\n",
    "display(sudoku_only_v2)"
   ]
  },
  {
   "cell_type": "code",
   "execution_count": 22,
   "metadata": {
    "collapsed": true,
    "deletable": true,
    "editable": true
   },
   "outputs": [],
   "source": [
    "def iterate(dictionary):\n",
    "    \"\"\"\n",
    "    Input: Sudoku in dictionary form\n",
    "    Procedure:  Iterate eliminate() and only_choice(). \n",
    "                If at some point, there is a box with no available values, return False.\n",
    "                If the sudoku is solved, return the sudoku.\n",
    "                If after an iteration of both functions, the sudoku remains the same, return the sudoku\n",
    "    Output: Solved Sudoku in dictionary form \n",
    "    \"\"\"\n",
    "    stalled = False\n",
    "    while not stalled:\n",
    "        # Check how many boxes have a determined value\n",
    "        solved_values_before = len([box for box in dictionary.keys() if len(dictionary[box]) == 1])\n",
    "        # Use the Eliminate Strategy\n",
    "        dictionary = eliminate(dictionary)\n",
    "        # Use the Only Choice Strategy\n",
    "        dictionary = only_choice(dictionary)\n",
    "        # Check how many boxes have a determined value, to compare\n",
    "        solved_values_after = len([box for box in dictionary.keys() if len(dictionary[box]) == 1])\n",
    "        # If no new values were added, stop the loop.\n",
    "        stalled = solved_values_before == solved_values_after\n",
    "        # Sanity check, return False if there is a box with zero available values:\n",
    "        if len([box for box in dictionary.keys() if len(dictionary[box]) == 0]):\n",
    "            return False\n",
    "    return dictionary\n"
   ]
  },
  {
   "cell_type": "code",
   "execution_count": 23,
   "metadata": {
    "collapsed": false,
    "deletable": true,
    "editable": true
   },
   "outputs": [
    {
     "name": "stdout",
     "output_type": "stream",
     "text": [
      "4 8 3 |9 2 1 |6 5 7 \n",
      "9 6 7 |3 4 5 |8 2 1 \n",
      "2 5 1 |8 7 6 |4 9 3 \n",
      "------+------+------\n",
      "5 4 8 |1 3 2 |9 7 6 \n",
      "7 2 9 |5 6 4 |1 3 8 \n",
      "1 3 6 |7 9 8 |2 4 5 \n",
      "------+------+------\n",
      "3 7 2 |6 8 9 |5 1 4 \n",
      "8 1 4 |2 5 3 |7 6 9 \n",
      "6 9 5 |4 1 7 |3 8 2 \n"
     ]
    }
   ],
   "source": [
    "sudoku_solved = iterate(sudoku_only_v2)\n",
    "display(sudoku_solved)"
   ]
  },
  {
   "cell_type": "code",
   "execution_count": 27,
   "metadata": {
    "collapsed": false,
    "deletable": true,
    "editable": true
   },
   "outputs": [
    {
     "name": "stdout",
     "output_type": "stream",
     "text": [
      "   4      1679   12679  |  139     2369    269   |   8      1239     5    \n",
      " 26789     3    1256789 | 14589   24569   245689 | 12679    1249   124679 \n",
      "  2689   15689   125689 |   7     234569  245689 | 12369   12349   123469 \n",
      "------------------------+------------------------+------------------------\n",
      "  3789     2     15789  |  3459   34579    4579  | 13579     6     13789  \n",
      "  3679   15679   15679  |  359      8     25679  |   4     12359   12379  \n",
      " 36789     4     56789  |  359      1     25679  | 23579   23589   23789  \n",
      "------------------------+------------------------+------------------------\n",
      "  289      89     289   |   6      459      3    |  1259     7     12489  \n",
      "   5      6789     3    |   2      479      1    |   69     489     4689  \n",
      "   1      6789     4    |  589     579     5789  | 23569   23589   23689  \n"
     ]
    }
   ],
   "source": [
    "# problem 2\n",
    "string_sudoku = '4.....8.5.3..........7......2.....6.....8.4......1.......6.3.7.5..2.....1.4......'\n",
    "dict_sudoku = str_to_dict_v2(string_sudoku)\n",
    "sudoku_iterated = iterate(dict_sudoku)\n",
    "display(sudoku_iterated)"
   ]
  },
  {
   "cell_type": "markdown",
   "metadata": {
    "deletable": true,
    "editable": true
   },
   "source": [
    "Oh no! The algorithm didn't solve it. It seemed to reduce every box to a number of possibilites, but it won't go farther than that. We need to think of other ways to improve our solution.\n",
    "\n",
    "## Strategy 3: Depth First Search\n",
    "- Construct tree of possibility\n",
    "- Fist, pick a box with a minimal number of possible values.\n",
    "- If we don't solve the Sudoku and we get a few possibilies for some boxes will branch out and try to solve the sudoku's obtain its way. \n",
    "- Go through the possibilities untill we reach a solution.\n",
    "source: [AlphaGo](https://storage.googleapis.com/deepmind-media/alphago/AlphaGoNaturePaper.pdf)\n",
    "\n"
   ]
  },
  {
   "cell_type": "code",
   "execution_count": 25,
   "metadata": {
    "collapsed": true,
    "deletable": true,
    "editable": true
   },
   "outputs": [],
   "source": [
    "def search(dictionary):\n",
    "    \"\"\"\n",
    "    Input: Sudoku in dictionary form\n",
    "    Procedure: Depth First Search\n",
    "    Output: Solved Sudoku in dictionary form \n",
    "    \"\"\"\n",
    "    \n",
    "    # First, Iterate eliminate() and only_choice() using the previous procedure\n",
    "    dictionary = iterate(dictionary)\n",
    "    if dictionary is False:\n",
    "        return False ## Failed earlier\n",
    "    if all(len(dictionary[s]) == 1 for s in boxes): \n",
    "        return dictionary ## Solved!\n",
    "    \n",
    "    # Choose one of the unfilled squares with the fewest possibilities\n",
    "    n,s = min((len(dictionary[s]), s) for s in boxes if len(dictionary[s]) > 1)\n",
    "    \n",
    "    # Now use recurrence to solve each one of the resulting sudokus, \n",
    "    # and if one returns a value (not False), return that answer!\n",
    "    for value in dictionary[s]:\n",
    "        new_sudoku = dictionary.copy()\n",
    "        new_sudoku[s] = value\n",
    "        attempt = search(new_sudoku)\n",
    "        if attempt:\n",
    "            return attempt"
   ]
  },
  {
   "cell_type": "code",
   "execution_count": 28,
   "metadata": {
    "collapsed": false
   },
   "outputs": [
    {
     "name": "stdout",
     "output_type": "stream",
     "text": [
      "4 1 7 |3 6 9 |8 2 5 \n",
      "6 3 2 |1 5 8 |9 4 7 \n",
      "9 5 8 |7 2 4 |3 1 6 \n",
      "------+------+------\n",
      "8 2 5 |4 3 7 |1 6 9 \n",
      "7 9 1 |5 8 6 |4 3 2 \n",
      "3 4 6 |9 1 2 |7 5 8 \n",
      "------+------+------\n",
      "2 8 9 |6 4 3 |5 7 1 \n",
      "5 7 3 |2 9 1 |6 8 4 \n",
      "1 6 4 |8 7 5 |2 9 3 \n"
     ]
    }
   ],
   "source": [
    "sudoku_searched = search(sudoku_iterated)\n",
    "display(sudoku_searched)"
   ]
  },
  {
   "cell_type": "code",
   "execution_count": null,
   "metadata": {
    "collapsed": true
   },
   "outputs": [],
   "source": []
  }
 ],
 "metadata": {
  "kernelspec": {
   "display_name": "Python [conda env:aind]",
   "language": "python",
   "name": "conda-env-aind-py"
  },
  "language_info": {
   "codemirror_mode": {
    "name": "ipython",
    "version": 3
   },
   "file_extension": ".py",
   "mimetype": "text/x-python",
   "name": "python",
   "nbconvert_exporter": "python",
   "pygments_lexer": "ipython3",
   "version": "3.6.0"
  }
 },
 "nbformat": 4,
 "nbformat_minor": 2
}
