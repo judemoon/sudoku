{
 "cells": [
  {
   "cell_type": "markdown",
   "metadata": {
    "deletable": true,
    "editable": true
   },
   "source": [
    "# Sudoku Project Lecture Notes\n",
    "### December 2017, by Jude Moon\n",
    "\n",
    "ubuntu, Python3.6, aind-environment-unix.yml\n",
    "***\n",
    "\n",
    "## What is Sudoku?\n",
    "It consists of a 9x9 grid, and the objective is to fill the grid with digits in such a way that each row, each column, and each of the 9 principal 3x3 subsquares contains all of the digits from 1 to 9. \n",
    "\n",
    "## Terminology for Sudoku\n",
    "\n",
    "- Box: The individual squares at the intersection of rows and columns will be called boxes\n",
    "- Unit: The complete rows, columns, and 3x3 squares, will be called units\n",
    "- Peer: For a particular box (such as 'A1'), its peers will be all other boxes that belong to a common unit (namely, those that belong to the same row, column, or 3x3 square).\n",
    "\n",
    "### Quiz1\n",
    "For any box, how many peers are there?\n",
    "\n",
    "> 20\n",
    "\n",
    "## Encoding the Board\n",
    "record the puzzles in two ways — as a string and as a dictionary\n",
    "- The string will consist of a concatenation of all the readings of the digits in the rows, taking the rows from top to bottom. If the puzzle is not solved, we can use a . as a placeholder for an empty box. For example, the unsolved puzzle at the above left will be written as: ..3.2.6..9..3.5..1..18.64....81.29..7.......8..67.82....26.95..8..2.3..9..5.1.3..\n",
    "- The keys will be strings corresponding to the boxes — namely, 'A1', 'A2', ..., 'I9'. The values will either be the digit in each box (if there is one) or a '.' (if not)."
   ]
  },
  {
   "cell_type": "code",
   "execution_count": 1,
   "metadata": {
    "collapsed": true,
    "deletable": true,
    "editable": true
   },
   "outputs": [],
   "source": [
    "# record rows and columns as strings\n",
    "rows = 'ABCDEFGHI'\n",
    "cols = '123456789'\n",
    "\n",
    "def cross(a, b):\n",
    "    return [s+t for s in a for t in b]"
   ]
  },
  {
   "cell_type": "code",
   "execution_count": 2,
   "metadata": {
    "collapsed": false,
    "deletable": true,
    "editable": true
   },
   "outputs": [
    {
     "data": {
      "text/plain": [
       "['A1',\n",
       " 'A2',\n",
       " 'A3',\n",
       " 'A4',\n",
       " 'A5',\n",
       " 'A6',\n",
       " 'A7',\n",
       " 'A8',\n",
       " 'A9',\n",
       " 'B1',\n",
       " 'B2',\n",
       " 'B3',\n",
       " 'B4',\n",
       " 'B5',\n",
       " 'B6',\n",
       " 'B7',\n",
       " 'B8',\n",
       " 'B9',\n",
       " 'C1',\n",
       " 'C2',\n",
       " 'C3',\n",
       " 'C4',\n",
       " 'C5',\n",
       " 'C6',\n",
       " 'C7',\n",
       " 'C8',\n",
       " 'C9',\n",
       " 'D1',\n",
       " 'D2',\n",
       " 'D3',\n",
       " 'D4',\n",
       " 'D5',\n",
       " 'D6',\n",
       " 'D7',\n",
       " 'D8',\n",
       " 'D9',\n",
       " 'E1',\n",
       " 'E2',\n",
       " 'E3',\n",
       " 'E4',\n",
       " 'E5',\n",
       " 'E6',\n",
       " 'E7',\n",
       " 'E8',\n",
       " 'E9',\n",
       " 'F1',\n",
       " 'F2',\n",
       " 'F3',\n",
       " 'F4',\n",
       " 'F5',\n",
       " 'F6',\n",
       " 'F7',\n",
       " 'F8',\n",
       " 'F9',\n",
       " 'G1',\n",
       " 'G2',\n",
       " 'G3',\n",
       " 'G4',\n",
       " 'G5',\n",
       " 'G6',\n",
       " 'G7',\n",
       " 'G8',\n",
       " 'G9',\n",
       " 'H1',\n",
       " 'H2',\n",
       " 'H3',\n",
       " 'H4',\n",
       " 'H5',\n",
       " 'H6',\n",
       " 'H7',\n",
       " 'H8',\n",
       " 'H9',\n",
       " 'I1',\n",
       " 'I2',\n",
       " 'I3',\n",
       " 'I4',\n",
       " 'I5',\n",
       " 'I6',\n",
       " 'I7',\n",
       " 'I8',\n",
       " 'I9']"
      ]
     },
     "execution_count": 2,
     "metadata": {},
     "output_type": "execute_result"
    }
   ],
   "source": [
    "boxes = cross(rows, cols)\n",
    "boxes"
   ]
  },
  {
   "cell_type": "code",
   "execution_count": 3,
   "metadata": {
    "collapsed": false,
    "deletable": true,
    "editable": true
   },
   "outputs": [
    {
     "data": {
      "text/plain": [
       "['A1', 'A2', 'A3', 'A4', 'A5', 'A6', 'A7', 'A8', 'A9']"
      ]
     },
     "execution_count": 3,
     "metadata": {},
     "output_type": "execute_result"
    }
   ],
   "source": [
    "row_units = [cross(r, cols) for r in rows]\n",
    "row_units[0]"
   ]
  },
  {
   "cell_type": "code",
   "execution_count": 4,
   "metadata": {
    "collapsed": false,
    "deletable": true,
    "editable": true
   },
   "outputs": [
    {
     "data": {
      "text/plain": [
       "['A1', 'B1', 'C1', 'D1', 'E1', 'F1', 'G1', 'H1', 'I1']"
      ]
     },
     "execution_count": 4,
     "metadata": {},
     "output_type": "execute_result"
    }
   ],
   "source": [
    "column_units = [cross(rows, c) for c in cols]\n",
    "column_units[0]"
   ]
  },
  {
   "cell_type": "code",
   "execution_count": 5,
   "metadata": {
    "collapsed": false,
    "deletable": true,
    "editable": true
   },
   "outputs": [
    {
     "data": {
      "text/plain": [
       "['A1', 'A2', 'A3', 'B1', 'B2', 'B3', 'C1', 'C2', 'C3']"
      ]
     },
     "execution_count": 5,
     "metadata": {},
     "output_type": "execute_result"
    }
   ],
   "source": [
    "square_units = [cross(rs, cs) for rs in ('ABC','DEF','GHI') for cs in ('123','456','789')]\n",
    "square_units[0]"
   ]
  },
  {
   "cell_type": "code",
   "execution_count": 6,
   "metadata": {
    "collapsed": false,
    "deletable": true,
    "editable": true
   },
   "outputs": [],
   "source": [
    "unitlist = row_units + column_units + square_units"
   ]
  },
  {
   "cell_type": "code",
   "execution_count": 7,
   "metadata": {
    "collapsed": true,
    "deletable": true,
    "editable": true
   },
   "outputs": [],
   "source": [
    "units = dict((s, [u for u in unitlist if s in u]) for s in boxes)\n",
    "peers = dict((s, set(sum(units[s],[]))-set([s])) for s in boxes)"
   ]
  },
  {
   "cell_type": "code",
   "execution_count": 39,
   "metadata": {
    "collapsed": true,
    "deletable": true,
    "editable": true
   },
   "outputs": [],
   "source": [
    "# convert the string representation of a puzzle into a dictionary form\n",
    "def str2dict_v1(string):\n",
    "    \"\"\"\n",
    "    Input: Sudoku grid in string form, 81 characters long\n",
    "    Procedure: Convert grid string into {<box>: <value>} dict with '.' value for empties   \n",
    "    Output: Sudoku grid in dictionary form\n",
    "        - keys: Box labels, e.g. 'A1'\n",
    "        - values: Value in corresponding box, e.g. '8', or '.' if it is empty.\n",
    "    \"\"\"\n",
    "    assert len(string) == 81, \"Input grid must be a string of length 81 (9x9)\"   \n",
    "    return dict(zip(boxes, string))"
   ]
  },
  {
   "cell_type": "code",
   "execution_count": 40,
   "metadata": {
    "collapsed": false,
    "deletable": true,
    "editable": true
   },
   "outputs": [
    {
     "data": {
      "text/plain": [
       "{'A1': '.',\n",
       " 'A2': '.',\n",
       " 'A3': '3',\n",
       " 'A4': '.',\n",
       " 'A5': '2',\n",
       " 'A6': '.',\n",
       " 'A7': '6',\n",
       " 'A8': '.',\n",
       " 'A9': '.',\n",
       " 'B1': '9',\n",
       " 'B2': '.',\n",
       " 'B3': '.',\n",
       " 'B4': '3',\n",
       " 'B5': '.',\n",
       " 'B6': '5',\n",
       " 'B7': '.',\n",
       " 'B8': '.',\n",
       " 'B9': '1',\n",
       " 'C1': '.',\n",
       " 'C2': '.',\n",
       " 'C3': '1',\n",
       " 'C4': '8',\n",
       " 'C5': '.',\n",
       " 'C6': '6',\n",
       " 'C7': '4',\n",
       " 'C8': '.',\n",
       " 'C9': '.',\n",
       " 'D1': '.',\n",
       " 'D2': '.',\n",
       " 'D3': '8',\n",
       " 'D4': '1',\n",
       " 'D5': '.',\n",
       " 'D6': '2',\n",
       " 'D7': '9',\n",
       " 'D8': '.',\n",
       " 'D9': '.',\n",
       " 'E1': '7',\n",
       " 'E2': '.',\n",
       " 'E3': '.',\n",
       " 'E4': '.',\n",
       " 'E5': '.',\n",
       " 'E6': '.',\n",
       " 'E7': '.',\n",
       " 'E8': '.',\n",
       " 'E9': '8',\n",
       " 'F1': '.',\n",
       " 'F2': '.',\n",
       " 'F3': '6',\n",
       " 'F4': '7',\n",
       " 'F5': '.',\n",
       " 'F6': '8',\n",
       " 'F7': '2',\n",
       " 'F8': '.',\n",
       " 'F9': '.',\n",
       " 'G1': '.',\n",
       " 'G2': '.',\n",
       " 'G3': '2',\n",
       " 'G4': '6',\n",
       " 'G5': '.',\n",
       " 'G6': '9',\n",
       " 'G7': '5',\n",
       " 'G8': '.',\n",
       " 'G9': '.',\n",
       " 'H1': '8',\n",
       " 'H2': '.',\n",
       " 'H3': '.',\n",
       " 'H4': '2',\n",
       " 'H5': '.',\n",
       " 'H6': '3',\n",
       " 'H7': '.',\n",
       " 'H8': '.',\n",
       " 'H9': '9',\n",
       " 'I1': '.',\n",
       " 'I2': '.',\n",
       " 'I3': '5',\n",
       " 'I4': '.',\n",
       " 'I5': '1',\n",
       " 'I6': '.',\n",
       " 'I7': '3',\n",
       " 'I8': '.',\n",
       " 'I9': '.'}"
      ]
     },
     "execution_count": 40,
     "metadata": {},
     "output_type": "execute_result"
    }
   ],
   "source": [
    "string_sudoku = '..3.2.6..9..3.5..1..18.64....81.29..7.......8..67.82....26.95..8..2.3..9..5.1.3..'\n",
    "dict_sudoku = str2dict_v1(string_sudoku)\n",
    "dict_sudoku"
   ]
  },
  {
   "cell_type": "code",
   "execution_count": 41,
   "metadata": {
    "collapsed": true,
    "deletable": true,
    "editable": true
   },
   "outputs": [],
   "source": [
    "def display(dictionary):\n",
    "    \"\"\"\n",
    "    Input: The sudoku in dictionary form\n",
    "    Procedure: Display the values as a 2-D grid\n",
    "    \"\"\"\n",
    "    width = 1+max(len(dictionary[s]) for s in boxes)\n",
    "    line = '+'.join(['-'*(width*3)]*3)\n",
    "    for r in rows:\n",
    "        print(''.join(dictionary[r+c].center(width)+('|' if c in '36' else '')\n",
    "                      for c in cols))\n",
    "        if r in 'CF': print(line)"
   ]
  },
  {
   "cell_type": "code",
   "execution_count": 42,
   "metadata": {
    "collapsed": false,
    "deletable": true,
    "editable": true
   },
   "outputs": [
    {
     "name": "stdout",
     "output_type": "stream",
     "text": [
      ". . 3 |. 2 . |6 . . \n",
      "9 . . |3 . 5 |. . 1 \n",
      ". . 1 |8 . 6 |4 . . \n",
      "------+------+------\n",
      ". . 8 |1 . 2 |9 . . \n",
      "7 . . |. . . |. . 8 \n",
      ". . 6 |7 . 8 |2 . . \n",
      "------+------+------\n",
      ". . 2 |6 . 9 |5 . . \n",
      "8 . . |2 . 3 |. . 9 \n",
      ". . 5 |. 1 . |3 . . \n"
     ]
    }
   ],
   "source": [
    "display(dict_sudoku)"
   ]
  },
  {
   "cell_type": "markdown",
   "metadata": {
    "deletable": true,
    "editable": true
   },
   "source": [
    "## Strategy 1: Elimination\n",
    "Replace '.' with all the available values for that box"
   ]
  },
  {
   "cell_type": "code",
   "execution_count": 43,
   "metadata": {
    "collapsed": true,
    "deletable": true,
    "editable": true
   },
   "outputs": [],
   "source": [
    "# convert the string representation of a puzzle into a dictionary form\n",
    "def str2dict_v2(string):\n",
    "    \"\"\"\n",
    "    Input: Sudoku grid in string form, 81 characters long\n",
    "    Procedure: Convert grid string into {<box>: <value>} dict with '123456789' value for empties   \n",
    "    Output: Sudoku grid in dictionary form\n",
    "        - keys: Box labels, e.g. 'A1'\n",
    "        - values: Value in corresponding box, e.g. '8', or '123456789' if it is empty.\n",
    "    \"\"\"\n",
    "    assert len(string) == 81, \"Input grid must be a string of length 81 (9x9)\"\n",
    "    values = []\n",
    "    for c in string:\n",
    "        if c == '.':\n",
    "            values.append('123456789')\n",
    "        else:\n",
    "            values.append(c)\n",
    "    return dict(zip(boxes, values))"
   ]
  },
  {
   "cell_type": "code",
   "execution_count": 44,
   "metadata": {
    "collapsed": false,
    "deletable": true,
    "editable": true
   },
   "outputs": [
    {
     "data": {
      "text/plain": [
       "{'A1': '123456789',\n",
       " 'A2': '123456789',\n",
       " 'A3': '3',\n",
       " 'A4': '123456789',\n",
       " 'A5': '2',\n",
       " 'A6': '123456789',\n",
       " 'A7': '6',\n",
       " 'A8': '123456789',\n",
       " 'A9': '123456789',\n",
       " 'B1': '9',\n",
       " 'B2': '123456789',\n",
       " 'B3': '123456789',\n",
       " 'B4': '3',\n",
       " 'B5': '123456789',\n",
       " 'B6': '5',\n",
       " 'B7': '123456789',\n",
       " 'B8': '123456789',\n",
       " 'B9': '1',\n",
       " 'C1': '123456789',\n",
       " 'C2': '123456789',\n",
       " 'C3': '1',\n",
       " 'C4': '8',\n",
       " 'C5': '123456789',\n",
       " 'C6': '6',\n",
       " 'C7': '4',\n",
       " 'C8': '123456789',\n",
       " 'C9': '123456789',\n",
       " 'D1': '123456789',\n",
       " 'D2': '123456789',\n",
       " 'D3': '8',\n",
       " 'D4': '1',\n",
       " 'D5': '123456789',\n",
       " 'D6': '2',\n",
       " 'D7': '9',\n",
       " 'D8': '123456789',\n",
       " 'D9': '123456789',\n",
       " 'E1': '7',\n",
       " 'E2': '123456789',\n",
       " 'E3': '123456789',\n",
       " 'E4': '123456789',\n",
       " 'E5': '123456789',\n",
       " 'E6': '123456789',\n",
       " 'E7': '123456789',\n",
       " 'E8': '123456789',\n",
       " 'E9': '8',\n",
       " 'F1': '123456789',\n",
       " 'F2': '123456789',\n",
       " 'F3': '6',\n",
       " 'F4': '7',\n",
       " 'F5': '123456789',\n",
       " 'F6': '8',\n",
       " 'F7': '2',\n",
       " 'F8': '123456789',\n",
       " 'F9': '123456789',\n",
       " 'G1': '123456789',\n",
       " 'G2': '123456789',\n",
       " 'G3': '2',\n",
       " 'G4': '6',\n",
       " 'G5': '123456789',\n",
       " 'G6': '9',\n",
       " 'G7': '5',\n",
       " 'G8': '123456789',\n",
       " 'G9': '123456789',\n",
       " 'H1': '8',\n",
       " 'H2': '123456789',\n",
       " 'H3': '123456789',\n",
       " 'H4': '2',\n",
       " 'H5': '123456789',\n",
       " 'H6': '3',\n",
       " 'H7': '123456789',\n",
       " 'H8': '123456789',\n",
       " 'H9': '9',\n",
       " 'I1': '123456789',\n",
       " 'I2': '123456789',\n",
       " 'I3': '5',\n",
       " 'I4': '123456789',\n",
       " 'I5': '1',\n",
       " 'I6': '123456789',\n",
       " 'I7': '3',\n",
       " 'I8': '123456789',\n",
       " 'I9': '123456789'}"
      ]
     },
     "execution_count": 44,
     "metadata": {},
     "output_type": "execute_result"
    }
   ],
   "source": [
    "string_sudoku = '..3.2.6..9..3.5..1..18.64....81.29..7.......8..67.82....26.95..8..2.3..9..5.1.3..'\n",
    "dict_sudoku = str2dict_v2(string_sudoku)\n",
    "dict_sudoku"
   ]
  },
  {
   "cell_type": "code",
   "execution_count": 14,
   "metadata": {
    "collapsed": false,
    "deletable": true,
    "editable": true
   },
   "outputs": [
    {
     "name": "stdout",
     "output_type": "stream",
     "text": [
      "123456789 123456789     3     |123456789     2     123456789 |    6     123456789 123456789 \n",
      "    9     123456789 123456789 |    3     123456789     5     |123456789 123456789     1     \n",
      "123456789 123456789     1     |    8     123456789     6     |    4     123456789 123456789 \n",
      "------------------------------+------------------------------+------------------------------\n",
      "123456789 123456789     8     |    1     123456789     2     |    9     123456789 123456789 \n",
      "    7     123456789 123456789 |123456789 123456789 123456789 |123456789 123456789     8     \n",
      "123456789 123456789     6     |    7     123456789     8     |    2     123456789 123456789 \n",
      "------------------------------+------------------------------+------------------------------\n",
      "123456789 123456789     2     |    6     123456789     9     |    5     123456789 123456789 \n",
      "    8     123456789 123456789 |    2     123456789     3     |123456789 123456789     9     \n",
      "123456789 123456789     5     |123456789     1     123456789 |    3     123456789 123456789 \n"
     ]
    }
   ],
   "source": [
    "display(dict_sudoku)"
   ]
  },
  {
   "cell_type": "code",
   "execution_count": 35,
   "metadata": {
    "collapsed": true,
    "deletable": true,
    "editable": true
   },
   "outputs": [],
   "source": [
    "def eliminate(dictionary):\n",
    "    \"\"\"\n",
    "    Input: Sudoku in dictionary form\n",
    "    Procedure: Go through all the boxes, and whenever there is a box with a single value,\n",
    "               eliminate this value from the set of values of all its peers   \n",
    "    Output: Resulting Sudoku in dictionary form after eliminating values\n",
    "    \"\"\"\n",
    "    solved_values = [box for box in dictionary.keys() if len(dictionary[box]) == 1]\n",
    "    for box in solved_values:\n",
    "        digit = dictionary[box]\n",
    "        for peer in peers[box]:\n",
    "            dictionary[peer] = dictionary[peer].replace(digit,'')\n",
    "    return dictionary\n"
   ]
  },
  {
   "cell_type": "code",
   "execution_count": 16,
   "metadata": {
    "collapsed": false,
    "deletable": true,
    "editable": true
   },
   "outputs": [
    {
     "data": {
      "text/plain": [
       "{'A1': '45',\n",
       " 'A2': '4578',\n",
       " 'A3': '3',\n",
       " 'A4': '49',\n",
       " 'A5': '2',\n",
       " 'A6': '147',\n",
       " 'A7': '6',\n",
       " 'A8': '5789',\n",
       " 'A9': '57',\n",
       " 'B1': '9',\n",
       " 'B2': '24678',\n",
       " 'B3': '47',\n",
       " 'B4': '3',\n",
       " 'B5': '47',\n",
       " 'B6': '5',\n",
       " 'B7': '78',\n",
       " 'B8': '278',\n",
       " 'B9': '1',\n",
       " 'C1': '25',\n",
       " 'C2': '257',\n",
       " 'C3': '1',\n",
       " 'C4': '8',\n",
       " 'C5': '79',\n",
       " 'C6': '6',\n",
       " 'C7': '4',\n",
       " 'C8': '23579',\n",
       " 'C9': '2357',\n",
       " 'D1': '345',\n",
       " 'D2': '345',\n",
       " 'D3': '8',\n",
       " 'D4': '1',\n",
       " 'D5': '3456',\n",
       " 'D6': '2',\n",
       " 'D7': '9',\n",
       " 'D8': '34567',\n",
       " 'D9': '34567',\n",
       " 'E1': '7',\n",
       " 'E2': '123459',\n",
       " 'E3': '49',\n",
       " 'E4': '459',\n",
       " 'E5': '34569',\n",
       " 'E6': '4',\n",
       " 'E7': '1',\n",
       " 'E8': '13456',\n",
       " 'E9': '8',\n",
       " 'F1': '1345',\n",
       " 'F2': '13459',\n",
       " 'F3': '6',\n",
       " 'F4': '7',\n",
       " 'F5': '3459',\n",
       " 'F6': '8',\n",
       " 'F7': '2',\n",
       " 'F8': '1345',\n",
       " 'F9': '345',\n",
       " 'G1': '134',\n",
       " 'G2': '1347',\n",
       " 'G3': '2',\n",
       " 'G4': '6',\n",
       " 'G5': '478',\n",
       " 'G6': '9',\n",
       " 'G7': '5',\n",
       " 'G8': '1478',\n",
       " 'G9': '47',\n",
       " 'H1': '8',\n",
       " 'H2': '1467',\n",
       " 'H3': '47',\n",
       " 'H4': '2',\n",
       " 'H5': '457',\n",
       " 'H6': '3',\n",
       " 'H7': '17',\n",
       " 'H8': '1467',\n",
       " 'H9': '9',\n",
       " 'I1': '46',\n",
       " 'I2': '4679',\n",
       " 'I3': '5',\n",
       " 'I4': '4',\n",
       " 'I5': '1',\n",
       " 'I6': '47',\n",
       " 'I7': '3',\n",
       " 'I8': '24678',\n",
       " 'I9': '2467'}"
      ]
     },
     "execution_count": 16,
     "metadata": {},
     "output_type": "execute_result"
    }
   ],
   "source": [
    "sudoku_eliminated = eliminate(dict_sudoku)\n",
    "sudoku_eliminated"
   ]
  },
  {
   "cell_type": "code",
   "execution_count": 17,
   "metadata": {
    "collapsed": false,
    "deletable": true,
    "editable": true
   },
   "outputs": [
    {
     "name": "stdout",
     "output_type": "stream",
     "text": [
      "   45    4578    3   |   49     2     147  |   6     5789    57  \n",
      "   9    24678    47  |   3      47     5   |   78    278     1   \n",
      "   25    257     1   |   8      79     6   |   4    23579   2357 \n",
      "---------------------+---------------------+---------------------\n",
      "  345    345     8   |   1     3456    2   |   9    34567  34567 \n",
      "   7    123459   49  |  459   34569    4   |   1    13456    8   \n",
      "  1345  13459    6   |   7     3459    8   |   2     1345   345  \n",
      "---------------------+---------------------+---------------------\n",
      "  134    1347    2   |   6     478     9   |   5     1478    47  \n",
      "   8     1467    47  |   2     457     3   |   17    1467    9   \n",
      "   46    4679    5   |   4      1      47  |   3    24678   2467 \n"
     ]
    }
   ],
   "source": [
    "display(sudoku_eliminated)"
   ]
  },
  {
   "cell_type": "markdown",
   "metadata": {
    "deletable": true,
    "editable": true
   },
   "source": [
    "## Strategy 2: Only Choice\n",
    "If there is only one box in a unit which would allow a certain digit, then that box must be assigned that digit."
   ]
  },
  {
   "cell_type": "code",
   "execution_count": 33,
   "metadata": {
    "collapsed": true,
    "deletable": true,
    "editable": true
   },
   "outputs": [],
   "source": [
    "def only_choice(dictionary):\n",
    "    \"\"\"\n",
    "    Input: Sudoku in dictionary form\n",
    "    Procedure: Go through all the units, and whenever there is a unit with a value\n",
    "               that only fits in one box, assign the value to this box  \n",
    "    Output: Resulting Sudoku in dictionary form filling in only choices\n",
    "    \"\"\"\n",
    "    for unit in unitlist:\n",
    "        for digit in '123456789':\n",
    "            dplaces = [box for box in unit if digit in dictionary[box]]\n",
    "            if len(dplaces) == 1:\n",
    "                dictionary[dplaces[0]] = digit\n",
    "    return dictionary"
   ]
  },
  {
   "cell_type": "code",
   "execution_count": 19,
   "metadata": {
    "collapsed": false,
    "deletable": true,
    "editable": true
   },
   "outputs": [
    {
     "name": "stdout",
     "output_type": "stream",
     "text": [
      "  45    8     3   |  9     2     1   |  6    5789   57  \n",
      "  9     6     47  |  3     4     5   |  8    278    1   \n",
      "  2    257    1   |  8     7     6   |  4   23579  2357 \n",
      "------------------+------------------+------------------\n",
      " 345   345    8   |  1    3456   2   |  9   34567 34567 \n",
      "  7     2     9   |  5   34569   4   |  1   13456   8   \n",
      " 1345 13459   6   |  7    3459   8   |  2    1345  345  \n",
      "------------------+------------------+------------------\n",
      " 134   1347   2   |  6     8     9   |  5    1478   47  \n",
      "  8    1467   47  |  2     5     3   |  17    6     9   \n",
      "  6     9     5   |  4     1     7   |  3     8     2   \n"
     ]
    }
   ],
   "source": [
    "sudoku_only = only_choice(sudoku_eliminated)\n",
    "display(sudoku_only)"
   ]
  },
  {
   "cell_type": "markdown",
   "metadata": {
    "deletable": true,
    "editable": true
   },
   "source": [
    "## Iterate eliminate and only_choice until solving Sudoku"
   ]
  },
  {
   "cell_type": "code",
   "execution_count": 20,
   "metadata": {
    "collapsed": false,
    "deletable": true,
    "editable": true
   },
   "outputs": [
    {
     "data": {
      "text/plain": [
       "{'A1': '45',\n",
       " 'A2': '8',\n",
       " 'A3': '3',\n",
       " 'A4': '9',\n",
       " 'A5': '2',\n",
       " 'A6': '1',\n",
       " 'A7': '6',\n",
       " 'A8': '57',\n",
       " 'A9': '57',\n",
       " 'B1': '9',\n",
       " 'B2': '6',\n",
       " 'B3': '7',\n",
       " 'B4': '3',\n",
       " 'B5': '4',\n",
       " 'B6': '5',\n",
       " 'B7': '8',\n",
       " 'B8': '27',\n",
       " 'B9': '1',\n",
       " 'C1': '2',\n",
       " 'C2': '5',\n",
       " 'C3': '1',\n",
       " 'C4': '8',\n",
       " 'C5': '7',\n",
       " 'C6': '6',\n",
       " 'C7': '4',\n",
       " 'C8': '359',\n",
       " 'C9': '35',\n",
       " 'D1': '345',\n",
       " 'D2': '345',\n",
       " 'D3': '8',\n",
       " 'D4': '1',\n",
       " 'D5': '36',\n",
       " 'D6': '2',\n",
       " 'D7': '9',\n",
       " 'D8': '3457',\n",
       " 'D9': '34567',\n",
       " 'E1': '7',\n",
       " 'E2': '2',\n",
       " 'E3': '9',\n",
       " 'E4': '5',\n",
       " 'E5': '36',\n",
       " 'E6': '4',\n",
       " 'E7': '1',\n",
       " 'E8': '3',\n",
       " 'E9': '8',\n",
       " 'F1': '1345',\n",
       " 'F2': '1345',\n",
       " 'F3': '6',\n",
       " 'F4': '7',\n",
       " 'F5': '39',\n",
       " 'F6': '8',\n",
       " 'F7': '2',\n",
       " 'F8': '345',\n",
       " 'F9': '345',\n",
       " 'G1': '134',\n",
       " 'G2': '1347',\n",
       " 'G3': '2',\n",
       " 'G4': '6',\n",
       " 'G5': '8',\n",
       " 'G6': '9',\n",
       " 'G7': '5',\n",
       " 'G8': '147',\n",
       " 'G9': '47',\n",
       " 'H1': '8',\n",
       " 'H2': '147',\n",
       " 'H3': '47',\n",
       " 'H4': '2',\n",
       " 'H5': '5',\n",
       " 'H6': '3',\n",
       " 'H7': '7',\n",
       " 'H8': '6',\n",
       " 'H9': '9',\n",
       " 'I1': '6',\n",
       " 'I2': '9',\n",
       " 'I3': '5',\n",
       " 'I4': '4',\n",
       " 'I5': '1',\n",
       " 'I6': '7',\n",
       " 'I7': '3',\n",
       " 'I8': '8',\n",
       " 'I9': '2'}"
      ]
     },
     "execution_count": 20,
     "metadata": {},
     "output_type": "execute_result"
    }
   ],
   "source": [
    "# 2nd round of elimination\n",
    "sudoku_eliminated_v2 = eliminate(sudoku_only)\n",
    "sudoku_eliminated_v2"
   ]
  },
  {
   "cell_type": "code",
   "execution_count": 21,
   "metadata": {
    "collapsed": false,
    "deletable": true,
    "editable": true
   },
   "outputs": [
    {
     "name": "stdout",
     "output_type": "stream",
     "text": [
      "  4    8    3  |  9    2    1  |  6    57   57 \n",
      "  9    6    7  |  3    4    5  |  8    2    1  \n",
      "  2    5    1  |  8    7    6  |  4    9    3  \n",
      "---------------+---------------+---------------\n",
      " 345  345   8  |  1    3    2  |  9    7    6  \n",
      "  7    2    9  |  5    6    4  |  1    3    8  \n",
      " 1345 1345  6  |  7    9    8  |  2   345  345 \n",
      "---------------+---------------+---------------\n",
      "  3    7    2  |  6    8    9  |  5    1    4  \n",
      "  8    1    4  |  2    5    3  |  7    6    9  \n",
      "  6    9    5  |  4    1    7  |  3    8    2  \n"
     ]
    }
   ],
   "source": [
    "# 2nd round of only_choice\n",
    "sudoku_only_v2 = only_choice(sudoku_eliminated_v2)\n",
    "display(sudoku_only_v2)"
   ]
  },
  {
   "cell_type": "code",
   "execution_count": 22,
   "metadata": {
    "collapsed": true,
    "deletable": true,
    "editable": true
   },
   "outputs": [],
   "source": [
    "def iterate(dictionary):\n",
    "    \"\"\"\n",
    "    Input: Sudoku in dictionary form\n",
    "    Procedure:  Iterate eliminate() and only_choice(). \n",
    "                If at some point, there is a box with no available values, return False.\n",
    "                If the sudoku is solved, return the sudoku.\n",
    "                If after an iteration of both functions, the sudoku remains the same, return the sudoku\n",
    "    Output: Solved Sudoku in dictionary form \n",
    "    \"\"\"\n",
    "    stalled = False\n",
    "    while not stalled:\n",
    "        # Check how many boxes have a determined value\n",
    "        solved_values_before = len([box for box in dictionary.keys() if len(dictionary[box]) == 1])\n",
    "        # Use the Eliminate Strategy\n",
    "        dictionary = eliminate(dictionary)\n",
    "        # Use the Only Choice Strategy\n",
    "        dictionary = only_choice(dictionary)\n",
    "        # Check how many boxes have a determined value, to compare\n",
    "        solved_values_after = len([box for box in dictionary.keys() if len(dictionary[box]) == 1])\n",
    "        # If no new values were added, stop the loop.\n",
    "        stalled = solved_values_before == solved_values_after\n",
    "        # Sanity check, return False if there is a box with zero available values:\n",
    "        if len([box for box in dictionary.keys() if len(dictionary[box]) == 0]):\n",
    "            return False\n",
    "    return dictionary\n"
   ]
  },
  {
   "cell_type": "code",
   "execution_count": 23,
   "metadata": {
    "collapsed": false,
    "deletable": true,
    "editable": true
   },
   "outputs": [
    {
     "name": "stdout",
     "output_type": "stream",
     "text": [
      "4 8 3 |9 2 1 |6 5 7 \n",
      "9 6 7 |3 4 5 |8 2 1 \n",
      "2 5 1 |8 7 6 |4 9 3 \n",
      "------+------+------\n",
      "5 4 8 |1 3 2 |9 7 6 \n",
      "7 2 9 |5 6 4 |1 3 8 \n",
      "1 3 6 |7 9 8 |2 4 5 \n",
      "------+------+------\n",
      "3 7 2 |6 8 9 |5 1 4 \n",
      "8 1 4 |2 5 3 |7 6 9 \n",
      "6 9 5 |4 1 7 |3 8 2 \n"
     ]
    }
   ],
   "source": [
    "sudoku_solved = iterate(sudoku_only_v2)\n",
    "display(sudoku_solved)"
   ]
  },
  {
   "cell_type": "code",
   "execution_count": 24,
   "metadata": {
    "collapsed": false,
    "deletable": true,
    "editable": true
   },
   "outputs": [
    {
     "name": "stdout",
     "output_type": "stream",
     "text": [
      "   4      1679   12679  |  139     2369    269   |   8      1239     5    \n",
      " 26789     3    1256789 | 14589   24569   245689 | 12679    1249   124679 \n",
      "  2689   15689   125689 |   7     234569  245689 | 12369   12349   123469 \n",
      "------------------------+------------------------+------------------------\n",
      "  3789     2     15789  |  3459   34579    4579  | 13579     6     13789  \n",
      "  3679   15679   15679  |  359      8     25679  |   4     12359   12379  \n",
      " 36789     4     56789  |  359      1     25679  | 23579   23589   23789  \n",
      "------------------------+------------------------+------------------------\n",
      "  289      89     289   |   6      459      3    |  1259     7     12489  \n",
      "   5      6789     3    |   2      479      1    |   69     489     4689  \n",
      "   1      6789     4    |  589     579     5789  | 23569   23589   23689  \n"
     ]
    }
   ],
   "source": [
    "# problem 2\n",
    "string_sudoku = '4.....8.5.3..........7......2.....6.....8.4......1.......6.3.7.5..2.....1.4......'\n",
    "dict_sudoku = str2dict_v2(string_sudoku)\n",
    "sudoku_iterated = iterate(dict_sudoku)\n",
    "display(sudoku_iterated)"
   ]
  },
  {
   "cell_type": "markdown",
   "metadata": {
    "deletable": true,
    "editable": true
   },
   "source": [
    "Oh no! The algorithm didn't solve it. It seemed to reduce every box to a number of possibilites, but it won't go farther than that. We need to think of other ways to improve our solution.\n",
    "\n",
    "## Strategy 3: Depth First Search\n",
    "- Construct tree of possibility\n",
    "- Fist, pick a box with a minimal number of possible values.\n",
    "- If we don't solve the Sudoku and we get a few possibilies for some boxes will branch out and try to solve the sudoku's obtain its way. \n",
    "- Go through the possibilities untill we reach a solution.\n",
    "source: [AlphaGo](https://storage.googleapis.com/deepmind-media/alphago/AlphaGoNaturePaper.pdf)\n",
    "\n"
   ]
  },
  {
   "cell_type": "code",
   "execution_count": 25,
   "metadata": {
    "collapsed": true,
    "deletable": true,
    "editable": true
   },
   "outputs": [],
   "source": [
    "def search(dictionary):\n",
    "    \"\"\"\n",
    "    Input: Sudoku in dictionary form\n",
    "    Procedure: Depth First Search\n",
    "    Output: Solved Sudoku in dictionary form \n",
    "    \"\"\"\n",
    "    \n",
    "    # First, Iterate eliminate() and only_choice() using the previous procedure\n",
    "    dictionary = iterate(dictionary)\n",
    "    if dictionary is False:\n",
    "        return False ## Failed earlier\n",
    "    if all(len(dictionary[s]) == 1 for s in boxes): \n",
    "        return dictionary ## Solved!\n",
    "    \n",
    "    # Choose one of the unfilled squares with the fewest possibilities\n",
    "    n,s = min((len(dictionary[s]), s) for s in boxes if len(dictionary[s]) > 1)\n",
    "    \n",
    "    # Now use recurrence to solve each one of the resulting sudokus, \n",
    "    # and if one returns a value (not False), return that answer!\n",
    "    for value in dictionary[s]:\n",
    "        new_sudoku = dictionary.copy()\n",
    "        new_sudoku[s] = value\n",
    "        attempt = search(new_sudoku)\n",
    "        if attempt:\n",
    "            return attempt"
   ]
  },
  {
   "cell_type": "code",
   "execution_count": 26,
   "metadata": {
    "collapsed": false,
    "deletable": true,
    "editable": true
   },
   "outputs": [
    {
     "name": "stdout",
     "output_type": "stream",
     "text": [
      "4 1 7 |3 6 9 |8 2 5 \n",
      "6 3 2 |1 5 8 |9 4 7 \n",
      "9 5 8 |7 2 4 |3 1 6 \n",
      "------+------+------\n",
      "8 2 5 |4 3 7 |1 6 9 \n",
      "7 9 1 |5 8 6 |4 3 2 \n",
      "3 4 6 |9 1 2 |7 5 8 \n",
      "------+------+------\n",
      "2 8 9 |6 4 3 |5 7 1 \n",
      "5 7 3 |2 9 1 |6 8 4 \n",
      "1 6 4 |8 7 5 |2 9 3 \n"
     ]
    }
   ],
   "source": [
    "sudoku_searched = search(sudoku_iterated)\n",
    "display(sudoku_searched)"
   ]
  },
  {
   "cell_type": "markdown",
   "metadata": {},
   "source": [
    "## Project Introduction\n",
    "\n",
    "For this project, you will implement some extensions to the Sudoku algorithm developed in the lectures. \n",
    "\n",
    "- The first extension will be an implementation of the **naked twins technique**. \n",
    "- The second will be a modification of the algorithm to solve a **diagonal sudoku**.\n",
    "\n",
    "## Additional Strategy: [Naked Twins Technique](http://www.sudokudragon.com/tutorialnakedtwins.htm)\n",
    "1. Find twins which include the same possible values within a unit.\n",
    "2. Lock the values in the twin boxes only.\n",
    "3. Remove the locked values from other boxes in the same unit."
   ]
  },
  {
   "cell_type": "code",
   "execution_count": 34,
   "metadata": {
    "collapsed": true
   },
   "outputs": [],
   "source": [
    "def naked_twins(dictionary):\n",
    "    \"\"\"\n",
    "    Input: Sudoku in dictionary form\n",
    "    Procedure: Naked Twins Technique\n",
    "    Output: Solved Sudoku in dictionary form\n",
    "    \"\"\"\n",
    "    # find all boxes with two values\n",
    "    for unit in unitlist:\n",
    "        pairs = [box for box in unit if len(dictionary[box]) == 2]\n",
    "        if len(pairs) > 1:\n",
    "            twin_dict = {} # pair_value as a key, list of pair as a value\n",
    "            for pair in pairs:\n",
    "                pair_value = dictionary[pair]\n",
    "                if pair_value in twin_dict:\n",
    "                    twin_dict[pair_value].append(pair)\n",
    "                else:\n",
    "                    twin_dict[pair_value] = [pair]\n",
    "            # remove key with the number of pairs != 2\n",
    "            naked_twins = {k: v for k, v in twin_dict.items() if len(v) == 2}\n",
    "            # if there is naked twins, get all values of naked twins\n",
    "            if naked_twins:\n",
    "                naked_twins_values = ''\n",
    "                for v in naked_twins:\n",
    "                    naked_twins_values = naked_twins_values + v\n",
    "                # eliminate the values of the naked twins from non-twins values\n",
    "                for box in unit:\n",
    "                    if len(dictionary[box])>2:\n",
    "                        for digit in dictionary[box]:\n",
    "                            if digit in naked_twins_values:\n",
    "                                dictionary[box] = dictionary[box].replace(digit,'')\n",
    "    return dictionary\n"
   ]
  },
  {
   "cell_type": "markdown",
   "metadata": {},
   "source": [
    "### Test naked_twins"
   ]
  },
  {
   "cell_type": "code",
   "execution_count": 28,
   "metadata": {
    "collapsed": false,
    "deletable": true,
    "editable": true
   },
   "outputs": [],
   "source": [
    "def test_naked_twins(problem, possible_solutions):\n",
    "    print('Before naked_twins:')\n",
    "    display(problem)\n",
    "    \n",
    "    my_solution = naked_twins(problem)\n",
    "    print('After naked_twins:')\n",
    "    display(my_solution)\n",
    "    print('Match with solution?')\n",
    "    if my_solution in possible_solutions:\n",
    "        print(True)\n",
    "    else:\n",
    "        print(False)"
   ]
  },
  {
   "cell_type": "code",
   "execution_count": 29,
   "metadata": {
    "collapsed": false
   },
   "outputs": [
    {
     "name": "stdout",
     "output_type": "stream",
     "text": [
      "Before naked_twins:\n",
      "  1   237   4  | 2357  9   257 |  27   6    8  \n",
      "  9    5    6  |  27   1    8  |  27   3    4  \n",
      "  23  237   8  |  4    37   6  |  9    5    1  \n",
      "---------------+---------------+---------------\n",
      "  5    1   2379| 237  347  279 |  34   8    6  \n",
      "  8    37  379 |  6   347  579 | 345   1    2  \n",
      "  6    4    23 | 1235  8   125 |  35   9    7  \n",
      "---------------+---------------+---------------\n",
      "  7    8    1  |  9    2    3  |  6    4    5  \n",
      "  4    9    5  |  17   6    17 |  8    2    3  \n",
      "  23   6    23 |  8    5    4  |  1    7    9  \n",
      "After naked_twins:\n",
      "  1   237   4  | 2357  9   257 |  27   6    8  \n",
      "  9    5    6  |  27   1    8  |  27   3    4  \n",
      "  23  237   8  |  4    37   6  |  9    5    1  \n",
      "---------------+---------------+---------------\n",
      "  5    1    79 | 237  347  279 |  34   8    6  \n",
      "  8    37   79 |  6   347  579 | 345   1    2  \n",
      "  6    4    23 | 1235  8   125 |  35   9    7  \n",
      "---------------+---------------+---------------\n",
      "  7    8    1  |  9    2    3  |  6    4    5  \n",
      "  4    9    5  |  17   6    17 |  8    2    3  \n",
      "  23   6    23 |  8    5    4  |  1    7    9  \n",
      "Match with solution?\n",
      "True\n"
     ]
    }
   ],
   "source": [
    "# problem 1\n",
    "problem_1 = {'I6': '4', 'H9': '3', 'I2': '6', 'E8': '1', 'H3': '5', 'H7': '8', 'I7': '1', 'I4': '8',\n",
    "                            'H5': '6', 'F9': '7', 'G7': '6', 'G6': '3', 'G5': '2', 'E1': '8', 'G3': '1', 'G2': '8',\n",
    "                            'G1': '7', 'I1': '23', 'C8': '5', 'I3': '23', 'E5': '347', 'I5': '5', 'C9': '1', 'G9': '5',\n",
    "                            'G8': '4', 'A1': '1', 'A3': '4', 'A2': '237', 'A5': '9', 'A4': '2357', 'A7': '27',\n",
    "                            'A6': '257', 'C3': '8', 'C2': '237', 'C1': '23', 'E6': '579', 'C7': '9', 'C6': '6',\n",
    "                            'C5': '37', 'C4': '4', 'I9': '9', 'D8': '8', 'I8': '7', 'E4': '6', 'D9': '6', 'H8': '2',\n",
    "                            'F6': '125', 'A9': '8', 'G4': '9', 'A8': '6', 'E7': '345', 'E3': '379', 'F1': '6',\n",
    "                            'F2': '4', 'F3': '23', 'F4': '1235', 'F5': '8', 'E2': '37', 'F7': '35', 'F8': '9',\n",
    "                            'D2': '1', 'H1': '4', 'H6': '17', 'H2': '9', 'H4': '17', 'D3': '2379', 'B4': '27',\n",
    "                            'B5': '1', 'B6': '8', 'B7': '27', 'E9': '2', 'B1': '9', 'B2': '5', 'B3': '6', 'D6': '279',\n",
    "                            'D7': '34', 'D4': '237', 'D5': '347', 'B8': '3', 'B9': '4', 'D1': '5'}\n",
    "\n",
    "# possible solution 1\n",
    "possible_solutions_1 = [\n",
    "        {'G7': '6', 'G6': '3', 'G5': '2', 'G4': '9', 'G3': '1', 'G2': '8', 'G1': '7', 'G9': '5', 'G8': '4', 'C9': '1',\n",
    "         'C8': '5', 'C3': '8', 'C2': '237', 'C1': '23', 'C7': '9', 'C6': '6', 'C5': '37', 'A4': '2357', 'A9': '8',\n",
    "         'A8': '6', 'F1': '6', 'F2': '4', 'F3': '23', 'F4': '1235', 'F5': '8', 'F6': '125', 'F7': '35', 'F8': '9',\n",
    "         'F9': '7', 'B4': '27', 'B5': '1', 'B6': '8', 'B7': '27', 'E9': '2', 'B1': '9', 'B2': '5', 'B3': '6', 'C4': '4',\n",
    "         'B8': '3', 'B9': '4', 'I9': '9', 'I8': '7', 'I1': '23', 'I3': '23', 'I2': '6', 'I5': '5', 'I4': '8', 'I7': '1',\n",
    "         'I6': '4', 'A1': '1', 'A3': '4', 'A2': '237', 'A5': '9', 'E8': '1', 'A7': '27', 'A6': '257', 'E5': '347',\n",
    "         'E4': '6', 'E7': '345', 'E6': '579', 'E1': '8', 'E3': '79', 'E2': '37', 'H8': '2', 'H9': '3', 'H2': '9',\n",
    "         'H3': '5', 'H1': '4', 'H6': '17', 'H7': '8', 'H4': '17', 'H5': '6', 'D8': '8', 'D9': '6', 'D6': '279',\n",
    "         'D7': '34', 'D4': '237', 'D5': '347', 'D2': '1', 'D3': '79', 'D1': '5'},\n",
    "        {'I6': '4', 'H9': '3', 'I2': '6', 'E8': '1', 'H3': '5', 'H7': '8', 'I7': '1', 'I4': '8', 'H5': '6', 'F9': '7',\n",
    "         'G7': '6', 'G6': '3', 'G5': '2', 'E1': '8', 'G3': '1', 'G2': '8', 'G1': '7', 'I1': '23', 'C8': '5', 'I3': '23',\n",
    "         'E5': '347', 'I5': '5', 'C9': '1', 'G9': '5', 'G8': '4', 'A1': '1', 'A3': '4', 'A2': '237', 'A5': '9',\n",
    "         'A4': '2357', 'A7': '27', 'A6': '257', 'C3': '8', 'C2': '237', 'C1': '23', 'E6': '579', 'C7': '9', 'C6': '6',\n",
    "         'C5': '37', 'C4': '4', 'I9': '9', 'D8': '8', 'I8': '7', 'E4': '6', 'D9': '6', 'H8': '2', 'F6': '125',\n",
    "         'A9': '8', 'G4': '9', 'A8': '6', 'E7': '345', 'E3': '79', 'F1': '6', 'F2': '4', 'F3': '23', 'F4': '1235',\n",
    "         'F5': '8', 'E2': '3', 'F7': '35', 'F8': '9', 'D2': '1', 'H1': '4', 'H6': '17', 'H2': '9', 'H4': '17',\n",
    "         'D3': '79', 'B4': '27', 'B5': '1', 'B6': '8', 'B7': '27', 'E9': '2', 'B1': '9', 'B2': '5', 'B3': '6',\n",
    "         'D6': '279', 'D7': '34', 'D4': '237', 'D5': '347', 'B8': '3', 'B9': '4', 'D1': '5'}]\n",
    "\n",
    "test_naked_twins(problem_1, possible_solutions_1)"
   ]
  },
  {
   "cell_type": "code",
   "execution_count": 30,
   "metadata": {
    "collapsed": false
   },
   "outputs": [
    {
     "name": "stdout",
     "output_type": "stream",
     "text": [
      "Before naked_twins:\n",
      "  23   4    7  |  6    8    5  |  23   9    1  \n",
      "  6    9    8  |  4    37   1  | 237   5   237 \n",
      "  23   5    1  |  23  379  2379|  8    6    4  \n",
      "---------------+---------------+---------------\n",
      "  8    17   9  | 1235  6   237 |  4    27  2357\n",
      "  5    6    2  |  8   347  347 |  37   1    9  \n",
      "  4    17   3  | 125  579  279 |  6    8   257 \n",
      "---------------+---------------+---------------\n",
      "  1    8    6  |  35  345   34 |  9    27   27 \n",
      "  7    2    4  |  9    1    8  |  5    3    6  \n",
      "  9    3    5  |  7    2    6  |  1    4    8  \n",
      "After naked_twins:\n",
      "  23   4    7  |  6    8    5  |  23   9    1  \n",
      "  6    9    8  |  4    37   1  | 237   5   237 \n",
      "  23   5    1  |  23   79   79 |  8    6    4  \n",
      "---------------+---------------+---------------\n",
      "  8    17   9  | 1235  6   237 |  4    27  2357\n",
      "  5    6    2  |  8   347  347 |  37   1    9  \n",
      "  4    17   3  | 125  579  279 |  6    8   257 \n",
      "---------------+---------------+---------------\n",
      "  1    8    6  |  35  345   34 |  9    27   27 \n",
      "  7    2    4  |  9    1    8  |  5    3    6  \n",
      "  9    3    5  |  7    2    6  |  1    4    8  \n",
      "Match with solution?\n",
      "True\n"
     ]
    }
   ],
   "source": [
    "# problem 2\n",
    "problem_2 = {'A1': '23', 'A2': '4', 'A3': '7', 'A4': '6', 'A5': '8', 'A6': '5', 'A7': '23', 'A8': '9',\n",
    "                            'A9': '1', 'B1': '6', 'B2': '9', 'B3': '8', 'B4': '4', 'B5': '37', 'B6': '1', 'B7': '237',\n",
    "                            'B8': '5', 'B9': '237', 'C1': '23', 'C2': '5', 'C3': '1', 'C4': '23', 'C5': '379',\n",
    "                            'C6': '2379', 'C7': '8', 'C8': '6', 'C9': '4', 'D1': '8', 'D2': '17', 'D3': '9',\n",
    "                            'D4': '1235', 'D5': '6', 'D6': '237', 'D7': '4', 'D8': '27', 'D9': '2357', 'E1': '5',\n",
    "                            'E2': '6', 'E3': '2', 'E4': '8', 'E5': '347', 'E6': '347', 'E7': '37', 'E8': '1', 'E9': '9',\n",
    "                            'F1': '4', 'F2': '17', 'F3': '3', 'F4': '125', 'F5': '579', 'F6': '279', 'F7': '6',\n",
    "                            'F8': '8', 'F9': '257', 'G1': '1', 'G2': '8', 'G3': '6', 'G4': '35', 'G5': '345',\n",
    "                            'G6': '34', 'G7': '9', 'G8': '27', 'G9': '27', 'H1': '7', 'H2': '2', 'H3': '4', 'H4': '9',\n",
    "                            'H5': '1', 'H6': '8', 'H7': '5', 'H8': '3', 'H9': '6', 'I1': '9', 'I2': '3', 'I3': '5',\n",
    "                            'I4': '7', 'I5': '2', 'I6': '6', 'I7': '1', 'I8': '4', 'I9': '8'}\n",
    "\n",
    "# possible solution 2\n",
    "possible_solutions_2 = [\n",
    "        {'A1': '23', 'A2': '4', 'A3': '7', 'A4': '6', 'A5': '8', 'A6': '5', 'A7': '23', 'A8': '9', 'A9': '1', 'B1': '6',\n",
    "         'B2': '9', 'B3': '8', 'B4': '4', 'B5': '37', 'B6': '1', 'B7': '237', 'B8': '5', 'B9': '237', 'C1': '23',\n",
    "         'C2': '5', 'C3': '1', 'C4': '23', 'C5': '79', 'C6': '79', 'C7': '8', 'C8': '6', 'C9': '4', 'D1': '8',\n",
    "         'D2': '17', 'D3': '9', 'D4': '1235', 'D5': '6', 'D6': '237', 'D7': '4', 'D8': '27', 'D9': '2357', 'E1': '5',\n",
    "         'E2': '6', 'E3': '2', 'E4': '8', 'E5': '347', 'E6': '347', 'E7': '37', 'E8': '1', 'E9': '9', 'F1': '4',\n",
    "         'F2': '17', 'F3': '3', 'F4': '125', 'F5': '579', 'F6': '279', 'F7': '6', 'F8': '8', 'F9': '257', 'G1': '1',\n",
    "         'G2': '8', 'G3': '6', 'G4': '35', 'G5': '345', 'G6': '34', 'G7': '9', 'G8': '27', 'G9': '27', 'H1': '7',\n",
    "         'H2': '2', 'H3': '4', 'H4': '9', 'H5': '1', 'H6': '8', 'H7': '5', 'H8': '3', 'H9': '6', 'I1': '9', 'I2': '3',\n",
    "         'I3': '5', 'I4': '7', 'I5': '2', 'I6': '6', 'I7': '1', 'I8': '4', 'I9': '8'},\n",
    "        {'A1': '23', 'A2': '4', 'A3': '7', 'A4': '6', 'A5': '8', 'A6': '5', 'A7': '23', 'A8': '9', 'A9': '1', 'B1': '6',\n",
    "         'B2': '9', 'B3': '8', 'B4': '4', 'B5': '3', 'B6': '1', 'B7': '237', 'B8': '5', 'B9': '237', 'C1': '23',\n",
    "         'C2': '5', 'C3': '1', 'C4': '23', 'C5': '79', 'C6': '79', 'C7': '8', 'C8': '6', 'C9': '4', 'D1': '8',\n",
    "         'D2': '17', 'D3': '9', 'D4': '1235', 'D5': '6', 'D6': '237', 'D7': '4', 'D8': '27', 'D9': '2357', 'E1': '5',\n",
    "         'E2': '6', 'E3': '2', 'E4': '8', 'E5': '347', 'E6': '347', 'E7': '37', 'E8': '1', 'E9': '9', 'F1': '4',\n",
    "         'F2': '17', 'F3': '3', 'F4': '125', 'F5': '579', 'F6': '279', 'F7': '6', 'F8': '8', 'F9': '257', 'G1': '1',\n",
    "         'G2': '8', 'G3': '6', 'G4': '35', 'G5': '345', 'G6': '34', 'G7': '9', 'G8': '27', 'G9': '27', 'H1': '7',\n",
    "         'H2': '2', 'H3': '4', 'H4': '9', 'H5': '1', 'H6': '8', 'H7': '5', 'H8': '3', 'H9': '6', 'I1': '9', 'I2': '3',\n",
    "         'I3': '5', 'I4': '7', 'I5': '2', 'I6': '6', 'I7': '1', 'I8': '4', 'I9': '8'}]\n",
    "\n",
    "test_naked_twins(problem_2, possible_solutions_2)"
   ]
  },
  {
   "cell_type": "markdown",
   "metadata": {
    "deletable": true,
    "editable": true
   },
   "source": [
    "## Additional Rule: Diagonal Sudoku\n",
    "A diagonal sudoku is like a regular sudoku, except that among the two main diagonals, the numbers 1 to 9 should all appear exactly once."
   ]
  },
  {
   "cell_type": "code",
   "execution_count": 31,
   "metadata": {
    "collapsed": false
   },
   "outputs": [
    {
     "data": {
      "text/plain": [
       "['A1', 'B2', 'C3', 'D4', 'E5', 'F6', 'G7', 'H8', 'I9']"
      ]
     },
     "execution_count": 31,
     "metadata": {},
     "output_type": "execute_result"
    }
   ],
   "source": [
    "diagonal_units = [[rows[i] + cols[i] for i in range(len(rows))],\n",
    "                  [rows[-(i+1)] + cols[i] for i in range(len(rows))]]\n",
    "diagonal_units[0]"
   ]
  },
  {
   "cell_type": "code",
   "execution_count": 32,
   "metadata": {
    "collapsed": true
   },
   "outputs": [],
   "source": [
    "unitlist = row_units + column_units + square_units + diagonal_units\n",
    "units = dict((s, [u for u in unitlist if s in u]) for s in boxes)\n",
    "peers = dict((s, set(sum(units[s],[]))-set([s])) for s in boxes)"
   ]
  },
  {
   "cell_type": "code",
   "execution_count": 45,
   "metadata": {
    "collapsed": true
   },
   "outputs": [],
   "source": [
    "def solve(string):\n",
    "    \"\"\"\n",
    "    Input: Sudoku in string form\n",
    "    Procedure: Find the solution to a Sudoku puzzle using search and constraint propagation\n",
    "    Output: Solved Sudoku in dictionary form \n",
    "    \"\"\"\n",
    "\n",
    "    return search(str2dict_v2(string))"
   ]
  },
  {
   "cell_type": "markdown",
   "metadata": {},
   "source": [
    "### Test diagonal units"
   ]
  },
  {
   "cell_type": "code",
   "execution_count": 47,
   "metadata": {
    "collapsed": true
   },
   "outputs": [],
   "source": [
    "diagonal_grid = '2.............62....1....7...6..8...3...9...7...6..4...4....8....52.............3'\n",
    "solved_diag_sudoku = {'G7': '8', 'G6': '9', 'G5': '7', 'G4': '3', 'G3': '2', 'G2': '4', 'G1': '6', 'G9': '5',\n",
    "                          'G8': '1', 'C9': '6', 'C8': '7', 'C3': '1', 'C2': '9', 'C1': '4', 'C7': '5', 'C6': '3',\n",
    "                          'C5': '2', 'C4': '8', 'E5': '9', 'E4': '1', 'F1': '1', 'F2': '2', 'F3': '9', 'F4': '6',\n",
    "                          'F5': '5', 'F6': '7', 'F7': '4', 'F8': '3', 'F9': '8', 'B4': '7', 'B5': '1', 'B6': '6',\n",
    "                          'B7': '2', 'B1': '8', 'B2': '5', 'B3': '3', 'B8': '4', 'B9': '9', 'I9': '3', 'I8': '2',\n",
    "                          'I1': '7', 'I3': '8', 'I2': '1', 'I5': '6', 'I4': '5', 'I7': '9', 'I6': '4', 'A1': '2',\n",
    "                          'A3': '7', 'A2': '6', 'E9': '7', 'A4': '9', 'A7': '3', 'A6': '5', 'A9': '1', 'A8': '8',\n",
    "                          'E7': '6', 'E6': '2', 'E1': '3', 'E3': '4', 'E2': '8', 'E8': '5', 'A5': '4', 'H8': '6',\n",
    "                          'H9': '4', 'H2': '3', 'H3': '5', 'H1': '9', 'H6': '1', 'H7': '7', 'H4': '2', 'H5': '8',\n",
    "                          'D8': '9', 'D9': '2', 'D6': '8', 'D7': '1', 'D4': '4', 'D5': '3', 'D2': '7', 'D3': '6',\n",
    "                          'D1': '5'}"
   ]
  },
  {
   "cell_type": "code",
   "execution_count": 48,
   "metadata": {
    "collapsed": false
   },
   "outputs": [
    {
     "name": "stdout",
     "output_type": "stream",
     "text": [
      "True\n"
     ]
    }
   ],
   "source": [
    "my_solution = solve(diagonal_grid)\n",
    "if my_solution == solved_diag_sudoku:\n",
    "    print(True)\n",
    "else:\n",
    "    print(False)"
   ]
  },
  {
   "cell_type": "code",
   "execution_count": null,
   "metadata": {
    "collapsed": true
   },
   "outputs": [],
   "source": []
  }
 ],
 "metadata": {
  "kernelspec": {
   "display_name": "Python 3",
   "language": "python",
   "name": "python3"
  },
  "language_info": {
   "codemirror_mode": {
    "name": "ipython",
    "version": 3
   },
   "file_extension": ".py",
   "mimetype": "text/x-python",
   "name": "python",
   "nbconvert_exporter": "python",
   "pygments_lexer": "ipython3",
   "version": "3.6.0"
  }
 },
 "nbformat": 4,
 "nbformat_minor": 2
}
